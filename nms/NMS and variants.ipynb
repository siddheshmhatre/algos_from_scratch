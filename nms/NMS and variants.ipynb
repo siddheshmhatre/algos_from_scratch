{
 "cells": [
  {
   "cell_type": "code",
   "execution_count": null,
   "id": "9afb7aac",
   "metadata": {},
   "outputs": [],
   "source": [
    "import numpy as np"
   ]
  },
  {
   "cell_type": "markdown",
   "id": "4b79ae28",
   "metadata": {},
   "source": [
    "## Test Data"
   ]
  },
  {
   "cell_type": "code",
   "execution_count": 141,
   "id": "43dca87b",
   "metadata": {},
   "outputs": [],
   "source": [
    "boxes_with_full_intersection = np.array([\n",
    "    [1, 1, 3, 3, 0.95],\n",
    "    [1, 1, 3, 3, 0.93]\n",
    "])\n",
    "\n",
    "boxes_with_no_intersection = np.array([\n",
    "    [1, 1, 3, 3, 0.95],\n",
    "    [4, 4, 5, 5, 0.93]\n",
    "])\n",
    "\n",
    "boxes_with_one_third_intersection = np.array([\n",
    "    [1, 1, 3, 3, 0.95],\n",
    "    [2, 1, 4, 3, 0.93]\n",
    "])\n",
    "\n",
    "general_test_case = np.array([\n",
    "    [1, 1, 3, 3, 0.95],\n",
    "    [1, 1, 3, 4, 0.93],\n",
    "    [1, 0.9, 3.6, 3, 0.98],\n",
    "    [1, 0.9, 3.5, 3, 0.97]])"
   ]
  },
  {
   "cell_type": "markdown",
   "id": "557b49f1",
   "metadata": {},
   "source": [
    "## Write function to compute iou"
   ]
  },
  {
   "cell_type": "code",
   "execution_count": 169,
   "id": "0d55c385",
   "metadata": {},
   "outputs": [],
   "source": [
    "def get_iou(box, boxes):\n",
    "    ''' \n",
    "    Assumption is boxes[:, :2] in boxes points to top left corner and boxes[:, 2:4] points to bottom right corner\n",
    "    box - shape 5\n",
    "    boxes - shape n, 5\n",
    "    return - shape 5\n",
    "    '''\n",
    "    # Compute the max of the top left coordinate between box and each boxes\n",
    "    top_left_x = np.maximum(np.expand_dims(box[0], 0), boxes[:, 0])\n",
    "    top_left_y = np.maximum(np.expand_dims(box[1], 0), boxes[:, 1])\n",
    "    \n",
    "    # Compute the min of the bottom right coordinate between box and each boxes\n",
    "    bottom_right_x = np.minimum(np.expand_dims(box[2], 0), boxes[:, 2])\n",
    "    bottom_right_y = np.minimum(np.expand_dims(box[3], 0), boxes[:, 3])\n",
    "        \n",
    "    # Compute the width and height of the intersection clamping to 0 if negative\n",
    "    width = bottom_right_x - top_left_x\n",
    "    width[width < 0] = 0\n",
    "    \n",
    "    height = bottom_right_y - top_left_y\n",
    "    height[height < 0] = 0\n",
    "        \n",
    "    # Compute the intersection and union of the area\n",
    "    intersection = width * height\n",
    "    area_of_box = np.expand_dims((box[3] - box[1]) * (box[2] - box[0]), 0)\n",
    "    union = np.add((boxes[:, 2] - boxes[:, 0]) * (boxes[:, 3] - boxes[:, 1]) - intersection, area_of_box)\n",
    "\n",
    "    # Compute the IOU and make sure you dont divide by 0\n",
    "    iou = intersection / (union + 1e-8)\n",
    "    \n",
    "    return iou"
   ]
  },
  {
   "cell_type": "code",
   "execution_count": 170,
   "id": "cb0cd47d",
   "metadata": {},
   "outputs": [],
   "source": [
    "def test_iou():\n",
    "    iou = get_iou(boxes[0], boxes_with_full_intersection)\n",
    "    assert (np.allclose(iou, np.array([1, 1])))\n",
    "    \n",
    "    iou = get_iou(boxes[0], boxes_with_no_intersection)\n",
    "    assert (np.allclose(iou, np.array([1, 0])))\n",
    "    \n",
    "    iou = get_iou(boxes[0], boxes_with_half_intersection)\n",
    "    assert (np.allclose(iou, np.array([1, 0.3333333])))"
   ]
  },
  {
   "cell_type": "markdown",
   "id": "099d18d8",
   "metadata": {},
   "source": [
    "## Write function to perform NMS"
   ]
  },
  {
   "cell_type": "code",
   "execution_count": 195,
   "id": "90435e1e",
   "metadata": {},
   "outputs": [],
   "source": [
    "def nms(boxes, threshold):\n",
    "    \"\"\"\n",
    "    boxes - shape is (:, 5)\n",
    "    \"\"\"\n",
    "    boxes_to_return = []\n",
    "    \n",
    "    # Sort the boxes based on confidence\n",
    "    sorted_by_conf = np.argsort(boxes[:, -1]) \n",
    "    # Loop over all the boxes till boxes is not empty\n",
    "    while sorted_by_conf.shape[0] != 0:\n",
    "        box_to_add = boxes[sorted_by_conf[-1]]\n",
    "        \n",
    "        boxes_to_return.append(box_to_add)\n",
    "        \n",
    "        sorted_by_conf = sorted_by_conf[:-1]\n",
    "        \n",
    "        if sorted_by_conf.shape[0] == 0:\n",
    "            break\n",
    "        \n",
    "        iou = get_iou(box_to_add, boxes[sorted_by_conf])\n",
    "        mask = iou < threshold\n",
    "        sorted_by_conf = sorted_by_conf[mask]\n",
    "        \n",
    "    return np.array(boxes_to_return)"
   ]
  },
  {
   "cell_type": "code",
   "execution_count": 196,
   "id": "246fa484",
   "metadata": {},
   "outputs": [],
   "source": [
    "thresh = 0.3\n",
    "def test_nms():\n",
    "\n",
    "    boxes = nms(boxes_with_full_intersection, thresh)\n",
    "    assert (boxes == boxes_with_full_intersection[0]).all()\n",
    "    \n",
    "    boxes = nms(boxes_with_no_intersection, thresh)\n",
    "    assert (boxes == boxes_with_no_intersection).all()\n",
    "    \n",
    "    boxes = nms(boxes_with_one_third_intersection, thresh)\n",
    "    assert (boxes == boxes_with_one_third_intersection[0]).all()\n",
    "    \n",
    "    boxes = nms(general_test_case, 0.5)\n",
    "    assert (boxes == general_test_case[2]).all()\n",
    "    \n",
    "    boxes = nms(general_test_case, 0.8)\n",
    "    assert (boxes == general_test_case[[2, 0, 1]]).all()"
   ]
  },
  {
   "cell_type": "code",
   "execution_count": 199,
   "id": "97bed024",
   "metadata": {},
   "outputs": [],
   "source": [
    "test_nms()"
   ]
  }
 ],
 "metadata": {
  "kernelspec": {
   "display_name": "Python 3 (ipykernel)",
   "language": "python",
   "name": "python3"
  },
  "language_info": {
   "codemirror_mode": {
    "name": "ipython",
    "version": 3
   },
   "file_extension": ".py",
   "mimetype": "text/x-python",
   "name": "python",
   "nbconvert_exporter": "python",
   "pygments_lexer": "ipython3",
   "version": "3.9.7"
  }
 },
 "nbformat": 4,
 "nbformat_minor": 5
}
